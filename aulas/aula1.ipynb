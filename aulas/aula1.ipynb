{
  "nbformat": 4,
  "nbformat_minor": 0,
  "metadata": {
    "colab": {
      "provenance": []
    },
    "kernelspec": {
      "name": "python3",
      "display_name": "Python 3"
    },
    "language_info": {
      "name": "python"
    },
    "gpuClass": "standard"
  },
  "cells": [
    {
      "cell_type": "markdown",
      "metadata": {
        "id": "1Ca2-_QexwY3"
      },
      "source": [
        "# Uma breve introdução à linguagem Python\n",
        "### Evandro Eduardo Seron Ruiz\n",
        "### Departamento de Computação e Matemática, FFCLRP, USP"
      ]
    },
    {
      "cell_type": "markdown",
      "metadata": {
        "id": "dZndiy6IxwY9"
      },
      "source": [
        "* É uma linguagem de alto nível\n",
        "* É uma linguagem para aplicações e prototipagem\n",
        "* Linguagem de programação multiparadigma\n",
        "** Imperativa\n",
        "** Funcional\n",
        "** Procedural\n",
        "** Orientada a Objetos\n",
        "* Concebida pelo holandês Guido van Rossum\n",
        "* Projeto \"hobby\" para a época natalina de 1989.\n",
        "* van Rossum trabalha na Google como também superviona e mantém a linguagem\n"
      ]
    },
    {
      "cell_type": "markdown",
      "metadata": {
        "id": "jSumXrH3YjPP"
      },
      "source": [
        "* Linguagem <b>de tipagem forte</b> e dinâmica\n",
        "* Grande coleção de módulos para as mais variadas atividades específicas"
      ]
    },
    {
      "cell_type": "markdown",
      "metadata": {
        "id": "0JnYyKi-xwY-"
      },
      "source": [
        "* Amplamente utilizada em aplicações comerciais e científicas\n",
        "* Modo interpretador e modo aplicações\n",
        "* Módulos amplos para web, expressões regulares, XML etc.\n",
        "* Muitos tipos básicos: listas, hash (tabelas associativas), unicode\n",
        "* Exceção e gerenciamento de memória\n",
        "* Geradores, módulos e pacotes\n",
        "* Veja o que dize a IEEE Spectrum: http://spectrum.ieee.org/computing/software/the-2017-top-programming-languages"
      ]
    },
    {
      "cell_type": "markdown",
      "metadata": {
        "id": "gG8C6WVVxwY-"
      },
      "source": [
        "Caso você estivesse usando Python numa versão instalada no seu computador pessoal, você poderia ver o interpretador Python sendo carregado na RAM:\n",
        "```\n",
        "python\n",
        "Python 3.6.1 |Anaconda 4.4.0 (x86_64)| (default, May 11 2017, 13:04:09)\n",
        "[GCC 4.2.1 Compatible Apple LLVM 6.0 (clang-600.0.57)] on darwin\n",
        "Type \"help\", \"copyright\", \"credits\" or \"license\" for more information.\n",
        ">>>\n",
        "\n",
        "Use exit() para sair ou Ctrl+D\n",
        "```"
      ]
    },
    {
      "cell_type": "code",
      "metadata": {
        "id": "opyVlbcwxwY_",
        "colab": {
          "base_uri": "https://localhost:8080/"
        },
        "outputId": "f45e955c-3b65-4b2d-f5af-69670bb53990"
      },
      "source": [
        "a=3.1415\n",
        "print(type(a))\n",
        "b=10\n",
        "print(type(b))\n",
        "print(a*a)\n",
        "print(\"Hello, world!\", \"Estou pronto para começar!\")\n"
      ],
      "execution_count": null,
      "outputs": [
        {
          "output_type": "stream",
          "name": "stdout",
          "text": [
            "<class 'float'>\n",
            "<class 'int'>\n",
            "9.86902225\n",
            "Hello, world! Estou pronto para começar!\n"
          ]
        }
      ]
    },
    {
      "cell_type": "markdown",
      "metadata": {
        "id": "ElyuMPtTCIVg"
      },
      "source": [
        "As variáveis em Python são apenas reservas de espaço para memória dos seus conteúdos.<br> Não existem comandos para declaração de tipos de variáveis. <br>Deste modo, é possível associar tipos de dados diferentes para uma mesma variável, tais como números inteiros, complexos, decimais, cadeias de caracteres ou caracteres simples."
      ]
    },
    {
      "cell_type": "code",
      "metadata": {
        "id": "oUpEA1vWxwZC",
        "colab": {
          "base_uri": "https://localhost:8080/"
        },
        "outputId": "daa4a89e-721f-4e69-d970-313cc28a17db"
      },
      "source": [
        "base=8\n",
        "altura=10\n",
        "area=base*altura\n",
        "print(area)\n",
        "a = 1 + 2j\n",
        "print(type(a), a)\n",
        "print(a.real, a.imag) #imprime a parte real do número\n",
        "print(2*a)"
      ],
      "execution_count": null,
      "outputs": [
        {
          "output_type": "stream",
          "name": "stdout",
          "text": [
            "80\n",
            "<class 'complex'> (1+2j)\n",
            "1.0 2.0\n",
            "(2+4j)\n"
          ]
        }
      ]
    },
    {
      "cell_type": "code",
      "metadata": {
        "colab": {
          "base_uri": "https://localhost:8080/"
        },
        "id": "AvH_w3XnxwZD",
        "outputId": "c17dd8fa-2e6e-42d5-fb02-c50427890c4d"
      },
      "source": [
        "a=\"Estou aprendendo Python.\"\n",
        "b=\"Cool!\"\n",
        "print(a+b)\n",
        "msg=\"Vai ser um sucesso!\"\n",
        "tst=msg[0:7]\n",
        "print(\"teste: \" + tst)\n",
        "print(len(msg))"
      ],
      "execution_count": null,
      "outputs": [
        {
          "output_type": "stream",
          "name": "stdout",
          "text": [
            "Estou aprendendo Python.Cool!\n",
            "teste: Vai ser\n",
            "19\n"
          ]
        }
      ]
    },
    {
      "cell_type": "markdown",
      "metadata": {
        "id": "IHRWe-_kDeP8"
      },
      "source": [
        "Python tem 5 tipos de dados considerados como padrão na linguagem. São eles:<br>\n",
        "- Números (int, float, complexos);\n",
        "- Cadeias de caracteres;\n",
        "- Listas;\n",
        "- Tuplas; e\n",
        "- Dicionários. Além do tipo booleano, ou lógico binário\n"
      ]
    },
    {
      "cell_type": "code",
      "metadata": {
        "colab": {
          "base_uri": "https://localhost:8080/"
        },
        "id": "UIrgDpx7ZpRW",
        "outputId": "0c63ae85-bed8-4ded-a8ba-feb1ef997e8b"
      },
      "source": [
        "soma=9+3\n",
        "type(soma)\n",
        "print(soma)"
      ],
      "execution_count": null,
      "outputs": [
        {
          "output_type": "stream",
          "name": "stdout",
          "text": [
            "12\n"
          ]
        }
      ]
    },
    {
      "cell_type": "code",
      "metadata": {
        "colab": {
          "base_uri": "https://localhost:8080/"
        },
        "id": "ZwQDOFzOZ-NX",
        "outputId": "64ed9fcd-522c-429a-80ae-222d1112b211"
      },
      "source": [
        "soma=soma+1.5\n",
        "type(soma)"
      ],
      "execution_count": null,
      "outputs": [
        {
          "output_type": "execute_result",
          "data": {
            "text/plain": [
              "float"
            ]
          },
          "metadata": {},
          "execution_count": 152
        }
      ]
    },
    {
      "cell_type": "code",
      "metadata": {
        "colab": {
          "base_uri": "https://localhost:8080/"
        },
        "id": "1tsDXrFhZ2Gf",
        "outputId": "eee08671-3835-485a-9a30-04618a7402e4"
      },
      "source": [
        "cadeia=\"cadeia de caracteres\"\n",
        "type(cadeia)"
      ],
      "execution_count": null,
      "outputs": [
        {
          "output_type": "execute_result",
          "data": {
            "text/plain": [
              "str"
            ]
          },
          "metadata": {},
          "execution_count": 153
        }
      ]
    },
    {
      "cell_type": "markdown",
      "metadata": {
        "id": "JRH_4Pctaq9x"
      },
      "source": [
        "Reparem nos tipos booleanos, ou seja, tipos lógicos binários (falso ou verdadeiro)"
      ]
    },
    {
      "cell_type": "code",
      "metadata": {
        "colab": {
          "base_uri": "https://localhost:8080/"
        },
        "id": "pdNfiT8daZqm",
        "outputId": "00d90202-1a3b-468c-9d3c-618a5cb3aaa8"
      },
      "source": [
        "ret=(soma>50)\n",
        "print(\"O tipo da variável: \",type(ret))\n",
        "print(\"Seu valor lógico: \",ret)"
      ],
      "execution_count": null,
      "outputs": [
        {
          "output_type": "stream",
          "name": "stdout",
          "text": [
            "O tipo da variável:  <class 'bool'>\n",
            "Seu valor lógico:  False\n"
          ]
        }
      ]
    },
    {
      "cell_type": "markdown",
      "metadata": {
        "id": "rf2-iFFEbZcv"
      },
      "source": [
        "O que significa <b>tipagem forte</b> <br>\n",
        "Elimine o sinal de comentário ``#`` e tente executar o código abaixo<br>\n",
        "Repare na mensagem que explica o tipo de erro ocorrido"
      ]
    },
    {
      "cell_type": "code",
      "metadata": {
        "colab": {
          "base_uri": "https://localhost:8080/",
          "height": 235
        },
        "id": "gV5m0aGKbheT",
        "outputId": "eb9a0a34-398f-4775-83df-fe84e8f2e564"
      },
      "source": [
        "a=10\n",
        "b=\"20\"\n",
        "print(type(a), type(b))\n",
        "soma=a+b"
      ],
      "execution_count": 1,
      "outputs": [
        {
          "output_type": "stream",
          "name": "stdout",
          "text": [
            "<class 'int'> <class 'str'>\n"
          ]
        },
        {
          "output_type": "error",
          "ename": "TypeError",
          "evalue": "ignored",
          "traceback": [
            "\u001b[0;31m---------------------------------------------------------------------------\u001b[0m",
            "\u001b[0;31mTypeError\u001b[0m                                 Traceback (most recent call last)",
            "\u001b[0;32m<ipython-input-1-68be1ee64679>\u001b[0m in \u001b[0;36m<cell line: 4>\u001b[0;34m()\u001b[0m\n\u001b[1;32m      2\u001b[0m \u001b[0mb\u001b[0m\u001b[0;34m=\u001b[0m\u001b[0;34m\"20\"\u001b[0m\u001b[0;34m\u001b[0m\u001b[0;34m\u001b[0m\u001b[0m\n\u001b[1;32m      3\u001b[0m \u001b[0mprint\u001b[0m\u001b[0;34m(\u001b[0m\u001b[0mtype\u001b[0m\u001b[0;34m(\u001b[0m\u001b[0ma\u001b[0m\u001b[0;34m)\u001b[0m\u001b[0;34m,\u001b[0m \u001b[0mtype\u001b[0m\u001b[0;34m(\u001b[0m\u001b[0mb\u001b[0m\u001b[0;34m)\u001b[0m\u001b[0;34m)\u001b[0m\u001b[0;34m\u001b[0m\u001b[0;34m\u001b[0m\u001b[0m\n\u001b[0;32m----> 4\u001b[0;31m \u001b[0msoma\u001b[0m\u001b[0;34m=\u001b[0m\u001b[0ma\u001b[0m\u001b[0;34m+\u001b[0m\u001b[0mb\u001b[0m\u001b[0;34m\u001b[0m\u001b[0;34m\u001b[0m\u001b[0m\n\u001b[0m",
            "\u001b[0;31mTypeError\u001b[0m: unsupported operand type(s) for +: 'int' and 'str'"
          ]
        }
      ]
    },
    {
      "cell_type": "markdown",
      "metadata": {
        "id": "nwaEKXNecUcq"
      },
      "source": [
        "### Indentação<br>\n",
        "Python não usa delimitadores para marcar blocos de códigos que devem ser executados consequentemente. <br>\n",
        "Os blocos de código a serem executados conjuntamente devem ser indentados.\n",
        "\n"
      ]
    },
    {
      "cell_type": "code",
      "metadata": {
        "colab": {
          "base_uri": "https://localhost:8080/"
        },
        "id": "pjiGPC2wcn0B",
        "outputId": "91739ce9-5ab7-42a0-f6ca-433ffe644379"
      },
      "source": [
        "alfa=3.14 * 3\n",
        "if alfa>10:\n",
        "    print(\"Maior\")\n",
        "else:\n",
        "    print(\"Veja o valor de alfa a seguir: \", end = '')\n",
        "    print(alfa)\n",
        "print(\"Próximo comando...\")"
      ],
      "execution_count": null,
      "outputs": [
        {
          "output_type": "stream",
          "name": "stdout",
          "text": [
            "Veja o valor de alfa a seguir: 9.42\n",
            "Próximo comando...\n"
          ]
        }
      ]
    },
    {
      "cell_type": "markdown",
      "metadata": {
        "id": "m37531X8bHKw"
      },
      "source": [
        "# Listas"
      ]
    },
    {
      "cell_type": "code",
      "metadata": {
        "id": "PKuKTDB5xwZF",
        "colab": {
          "base_uri": "https://localhost:8080/"
        },
        "outputId": "f82a051c-173b-43b9-d79b-263c4f7ce7f2"
      },
      "source": [
        "lista=['primo', \"secondo\", 99, 123.4]\n",
        "print(lista)\n",
        "print(lista[3]) #imprime o quarto elemento\n",
        "l2 = lista[:1] + [\"oops\", \"loops\"] #slice, fatiamento e concatenação\n",
        "print(l2)"
      ],
      "execution_count": null,
      "outputs": [
        {
          "output_type": "stream",
          "name": "stdout",
          "text": [
            "['primo', 'secondo', 99, 123.4]\n",
            "123.4\n",
            "['primo', 'oops', 'loops']\n"
          ]
        }
      ]
    },
    {
      "cell_type": "code",
      "metadata": {
        "id": "exAm6-YUxwZF",
        "colab": {
          "base_uri": "https://localhost:8080/"
        },
        "outputId": "7bb6585a-8c94-4eb4-9f38-d1103834eb76"
      },
      "source": [
        "l2[1]='intruso' #inclusão em local específico\n",
        "print(l2)"
      ],
      "execution_count": null,
      "outputs": [
        {
          "output_type": "stream",
          "name": "stdout",
          "text": [
            "['primo', 'intruso', 'loops']\n"
          ]
        }
      ]
    },
    {
      "cell_type": "code",
      "metadata": {
        "id": "HdzlkowixwZG",
        "colab": {
          "base_uri": "https://localhost:8080/"
        },
        "outputId": "96b645f5-e4b4-49be-eab8-e7fc3c29c73a"
      },
      "source": [
        "l2[0:2] = [3,4,5] #substitui os dois primeiros por outros 3\n",
        "print (l2)"
      ],
      "execution_count": null,
      "outputs": [
        {
          "output_type": "stream",
          "name": "stdout",
          "text": [
            "[3, 4, 5, 'loops']\n"
          ]
        }
      ]
    },
    {
      "cell_type": "code",
      "metadata": {
        "id": "jNj9TfcZxwZG",
        "colab": {
          "base_uri": "https://localhost:8080/"
        },
        "outputId": "c414b4ee-a790-4a69-db0c-1ee17ead8ebb"
      },
      "source": [
        "outra=[\"dose\", \"dupla\"]\n",
        "lista=[\"a\", outra, \"b\"] #inclusão gera listas aninhadas\n",
        "print(lista)"
      ],
      "execution_count": null,
      "outputs": [
        {
          "output_type": "stream",
          "name": "stdout",
          "text": [
            "['a', ['dose', 'dupla'], 'b']\n"
          ]
        }
      ]
    },
    {
      "cell_type": "code",
      "metadata": {
        "id": "QE8SMtCUxwZH",
        "colab": {
          "base_uri": "https://localhost:8080/"
        },
        "outputId": "02595d7b-2155-44fb-f03d-98f573f38a3e"
      },
      "source": [
        "# Eliminando elementos da lista\n",
        "lista=[\"prim\", \"seg\", \"terc\"]\n",
        "del lista[0]\n",
        "print(lista)\n",
        "del lista\n",
        "# A tentativa de executar a linha a seguir gera erro\n",
        "#print(lista)"
      ],
      "execution_count": null,
      "outputs": [
        {
          "output_type": "stream",
          "name": "stdout",
          "text": [
            "['seg', 'terc']\n"
          ]
        }
      ]
    },
    {
      "cell_type": "markdown",
      "metadata": {
        "id": "sA22wQ-UxwZI"
      },
      "source": [
        "### Usando listas como pilhas\n",
        "Podemos usar lista no modelo LIFO: *last-in, first-out*"
      ]
    },
    {
      "cell_type": "code",
      "metadata": {
        "id": "dOEBkjWTxwZI",
        "colab": {
          "base_uri": "https://localhost:8080/"
        },
        "outputId": "083c7dda-2f6a-41fa-e587-3f61415de217"
      },
      "source": [
        "lista = [1,2,3,4]\n",
        "lista.append(5)\n",
        "print(lista)\n",
        "lista.pop()\n",
        "print(lista)"
      ],
      "execution_count": null,
      "outputs": [
        {
          "output_type": "stream",
          "name": "stdout",
          "text": [
            "[1, 2, 3, 4, 5]\n",
            "[1, 2, 3, 4]\n"
          ]
        }
      ]
    },
    {
      "cell_type": "markdown",
      "metadata": {
        "id": "xXv_pcedxwZJ"
      },
      "source": [
        "### Usando listas como filas\n",
        "Podemos usar listas no modelo FIFO: *first-in, first-out*"
      ]
    },
    {
      "cell_type": "code",
      "metadata": {
        "id": "-fAHd1jjxwZK",
        "colab": {
          "base_uri": "https://localhost:8080/"
        },
        "outputId": "c085362b-bc51-4bea-ae4f-470d65bf052a"
      },
      "source": [
        "lista = [1,2,3,4]\n",
        "lista.append(5)\n",
        "print(lista)\n",
        "lista.pop(0)\n",
        "print(lista)"
      ],
      "execution_count": null,
      "outputs": [
        {
          "output_type": "stream",
          "name": "stdout",
          "text": [
            "[1, 2, 3, 4, 5]\n",
            "[2, 3, 4, 5]\n"
          ]
        }
      ]
    },
    {
      "cell_type": "markdown",
      "metadata": {
        "id": "NpDf5r-fxwZK"
      },
      "source": [
        "### A função `help()`. Grande ajuda!\n",
        "* `help(objeto)`\n",
        "* Muito útil para informações expressas\n",
        "* Informações sobre construtores e métodos\n",
        "* Incluindo métodos com nomes especiais: `__metodo__`\n",
        "* Estes nomes especiais são sobrecarga de operador de Python\n",
        "* Mantenha sempre um interpretador ‘aberto’\n"
      ]
    },
    {
      "cell_type": "code",
      "metadata": {
        "id": "C2l6lpgxxwZL",
        "colab": {
          "base_uri": "https://localhost:8080/"
        },
        "outputId": "f0191e38-526d-45b2-ff14-2dc143a295ba"
      },
      "source": [
        "help(lista)"
      ],
      "execution_count": null,
      "outputs": [
        {
          "output_type": "stream",
          "name": "stdout",
          "text": [
            "Help on list object:\n",
            "\n",
            "class list(object)\n",
            " |  list(iterable=(), /)\n",
            " |  \n",
            " |  Built-in mutable sequence.\n",
            " |  \n",
            " |  If no argument is given, the constructor creates a new empty list.\n",
            " |  The argument must be an iterable if specified.\n",
            " |  \n",
            " |  Methods defined here:\n",
            " |  \n",
            " |  __add__(self, value, /)\n",
            " |      Return self+value.\n",
            " |  \n",
            " |  __contains__(self, key, /)\n",
            " |      Return key in self.\n",
            " |  \n",
            " |  __delitem__(self, key, /)\n",
            " |      Delete self[key].\n",
            " |  \n",
            " |  __eq__(self, value, /)\n",
            " |      Return self==value.\n",
            " |  \n",
            " |  __ge__(self, value, /)\n",
            " |      Return self>=value.\n",
            " |  \n",
            " |  __getattribute__(self, name, /)\n",
            " |      Return getattr(self, name).\n",
            " |  \n",
            " |  __getitem__(...)\n",
            " |      x.__getitem__(y) <==> x[y]\n",
            " |  \n",
            " |  __gt__(self, value, /)\n",
            " |      Return self>value.\n",
            " |  \n",
            " |  __iadd__(self, value, /)\n",
            " |      Implement self+=value.\n",
            " |  \n",
            " |  __imul__(self, value, /)\n",
            " |      Implement self*=value.\n",
            " |  \n",
            " |  __init__(self, /, *args, **kwargs)\n",
            " |      Initialize self.  See help(type(self)) for accurate signature.\n",
            " |  \n",
            " |  __iter__(self, /)\n",
            " |      Implement iter(self).\n",
            " |  \n",
            " |  __le__(self, value, /)\n",
            " |      Return self<=value.\n",
            " |  \n",
            " |  __len__(self, /)\n",
            " |      Return len(self).\n",
            " |  \n",
            " |  __lt__(self, value, /)\n",
            " |      Return self<value.\n",
            " |  \n",
            " |  __mul__(self, value, /)\n",
            " |      Return self*value.\n",
            " |  \n",
            " |  __ne__(self, value, /)\n",
            " |      Return self!=value.\n",
            " |  \n",
            " |  __repr__(self, /)\n",
            " |      Return repr(self).\n",
            " |  \n",
            " |  __reversed__(self, /)\n",
            " |      Return a reverse iterator over the list.\n",
            " |  \n",
            " |  __rmul__(self, value, /)\n",
            " |      Return value*self.\n",
            " |  \n",
            " |  __setitem__(self, key, value, /)\n",
            " |      Set self[key] to value.\n",
            " |  \n",
            " |  __sizeof__(self, /)\n",
            " |      Return the size of the list in memory, in bytes.\n",
            " |  \n",
            " |  append(self, object, /)\n",
            " |      Append object to the end of the list.\n",
            " |  \n",
            " |  clear(self, /)\n",
            " |      Remove all items from list.\n",
            " |  \n",
            " |  copy(self, /)\n",
            " |      Return a shallow copy of the list.\n",
            " |  \n",
            " |  count(self, value, /)\n",
            " |      Return number of occurrences of value.\n",
            " |  \n",
            " |  extend(self, iterable, /)\n",
            " |      Extend list by appending elements from the iterable.\n",
            " |  \n",
            " |  index(self, value, start=0, stop=9223372036854775807, /)\n",
            " |      Return first index of value.\n",
            " |      \n",
            " |      Raises ValueError if the value is not present.\n",
            " |  \n",
            " |  insert(self, index, object, /)\n",
            " |      Insert object before index.\n",
            " |  \n",
            " |  pop(self, index=-1, /)\n",
            " |      Remove and return item at index (default last).\n",
            " |      \n",
            " |      Raises IndexError if list is empty or index is out of range.\n",
            " |  \n",
            " |  remove(self, value, /)\n",
            " |      Remove first occurrence of value.\n",
            " |      \n",
            " |      Raises ValueError if the value is not present.\n",
            " |  \n",
            " |  reverse(self, /)\n",
            " |      Reverse *IN PLACE*.\n",
            " |  \n",
            " |  sort(self, /, *, key=None, reverse=False)\n",
            " |      Stable sort *IN PLACE*.\n",
            " |  \n",
            " |  ----------------------------------------------------------------------\n",
            " |  Static methods defined here:\n",
            " |  \n",
            " |  __new__(*args, **kwargs) from builtins.type\n",
            " |      Create and return a new object.  See help(type) for accurate signature.\n",
            " |  \n",
            " |  ----------------------------------------------------------------------\n",
            " |  Data and other attributes defined here:\n",
            " |  \n",
            " |  __hash__ = None\n",
            "\n"
          ]
        }
      ]
    },
    {
      "cell_type": "markdown",
      "metadata": {
        "id": "KnigyfV_ewUT"
      },
      "source": [
        "## Testando alguns métodos\n",
        "### método ``append``"
      ]
    },
    {
      "cell_type": "code",
      "metadata": {
        "colab": {
          "base_uri": "https://localhost:8080/"
        },
        "id": "XCR6tdmpfBa3",
        "outputId": "17ee616f-2a49-4063-921f-1b372fd89a99"
      },
      "source": [
        "lista1=[1,2,3,4,5,34]\n",
        "lista1.append(9)\n",
        "print(lista1)"
      ],
      "execution_count": null,
      "outputs": [
        {
          "output_type": "stream",
          "name": "stdout",
          "text": [
            "[1, 2, 3, 4, 5, 34, 9]\n"
          ]
        }
      ]
    },
    {
      "cell_type": "markdown",
      "metadata": {
        "id": "6jC-awqIhSoG"
      },
      "source": [
        "Testando o método ``remove`` que retira a primeira ocorrência"
      ]
    },
    {
      "cell_type": "code",
      "metadata": {
        "colab": {
          "base_uri": "https://localhost:8080/"
        },
        "id": "y7y2kjunhbj4",
        "outputId": "6eb12367-1b9a-4026-d5c2-817247ed259a"
      },
      "source": [
        "print(lista1)\n",
        "lista1.remove(3)\n",
        "print(\"depois do remove: \", lista1)"
      ],
      "execution_count": null,
      "outputs": [
        {
          "output_type": "stream",
          "name": "stdout",
          "text": [
            "[1, 2, 3, 4, 5, 34, 9]\n",
            "depois do remove:  [1, 2, 4, 5, 34, 9]\n"
          ]
        }
      ]
    },
    {
      "cell_type": "markdown",
      "metadata": {
        "id": "JYqbKUYehyFg"
      },
      "source": [
        "Agora o método ``index`` que retorna o índice da primeira ocorrência"
      ]
    },
    {
      "cell_type": "code",
      "metadata": {
        "colab": {
          "base_uri": "https://localhost:8080/"
        },
        "id": "jnXakqCEh-No",
        "outputId": "a6bf562e-ab30-4512-c15a-981c7e25777e"
      },
      "source": [
        "print(lista1.index(34))"
      ],
      "execution_count": null,
      "outputs": [
        {
          "output_type": "stream",
          "name": "stdout",
          "text": [
            "4\n"
          ]
        }
      ]
    },
    {
      "cell_type": "markdown",
      "metadata": {
        "id": "TaJDlfJyiJoK"
      },
      "source": [
        "O método ``sort`` que gera uma versão ordenada da lista"
      ]
    },
    {
      "cell_type": "code",
      "metadata": {
        "id": "KkdhJDhJxwZL",
        "colab": {
          "base_uri": "https://localhost:8080/"
        },
        "outputId": "80668afc-d897-4495-eba7-25f58784dfc0"
      },
      "source": [
        "# testando o método sort()\n",
        "lista=[\"um\", \"dois\", \"terceiro\"]\n",
        "lista.sort(reverse=True) #ordem alfabética decrescente\n",
        "print(lista)\n",
        "lista.sort() #ordem alfabética crescente\n",
        "print(lista)"
      ],
      "execution_count": null,
      "outputs": [
        {
          "output_type": "stream",
          "name": "stdout",
          "text": [
            "['um', 'terceiro', 'dois']\n",
            "['dois', 'terceiro', 'um']\n"
          ]
        }
      ]
    },
    {
      "cell_type": "markdown",
      "metadata": {
        "id": "5R9LFplXi4MY"
      },
      "source": [
        "Existem casos para os quais a ordenação não é trivial.<br>\n",
        "Cabe ao programador detalhar"
      ]
    },
    {
      "cell_type": "code",
      "metadata": {
        "colab": {
          "base_uri": "https://localhost:8080/"
        },
        "id": "6uzE0RZKiXkL",
        "outputId": "87f6b401-1335-4096-e70c-ca35ce1febed"
      },
      "source": [
        "doida=[\"gamma\",\"alfa\",\"beta\", 3, 2, 1, \"beta\"]\n",
        "doida.sort\n",
        "print(doida)"
      ],
      "execution_count": null,
      "outputs": [
        {
          "output_type": "stream",
          "name": "stdout",
          "text": [
            "['gamma', 'alfa', 'beta', 3, 2, 1, 'beta']\n"
          ]
        }
      ]
    },
    {
      "cell_type": "markdown",
      "metadata": {
        "id": "jFhXZCo8jQch"
      },
      "source": [
        "Vamos ``count``"
      ]
    },
    {
      "cell_type": "code",
      "metadata": {
        "colab": {
          "base_uri": "https://localhost:8080/"
        },
        "id": "EaMRBDEqjUWD",
        "outputId": "2103cf56-bfbd-4bd9-cf49-423296fcba3f"
      },
      "source": [
        "c=doida.count(\"beta\")\n",
        "print(\"lista doida tem \", str(c) + \" `beta`\")"
      ],
      "execution_count": null,
      "outputs": [
        {
          "output_type": "stream",
          "name": "stdout",
          "text": [
            "lista doida tem  2 `beta`\n"
          ]
        }
      ]
    },
    {
      "cell_type": "markdown",
      "metadata": {
        "id": "05ZaJ4u8xwZL"
      },
      "source": [
        "# Tuplas\n",
        "* Tuplas são seqüências de valores armazenadas numa única variável\n",
        "* Em Python, são representadas por valores separados por vírgula e envolvidos por parênteses\n",
        "* Tuplas têm valores <b>imutáveis</b>, como as strings\n",
        "* Exemplo de uso: armazenar coordenadas (x,y,z), registros de BD\n",
        "* Evitar tuplas com 1 ou 0 elementos"
      ]
    },
    {
      "cell_type": "markdown",
      "metadata": {
        "id": "ZJq41Ey2ky7W"
      },
      "source": [
        "<b>Idealmente</b> as tuplas servem para armazenar elementos heterogêneos, por exemplo, ``(placa, nome)`` em que a variável ``placa`` serviria para a identificação de um veículo e ``nome`` para o nome do seu usuário. <br>Outro exemplo seria uma lista de telefones associados aos nomes dos seus tutulares."
      ]
    },
    {
      "cell_type": "code",
      "metadata": {
        "id": "VAPh-iWCxwZM",
        "colab": {
          "base_uri": "https://localhost:8080/"
        },
        "outputId": "6fc81f5e-bf6b-440f-cd57-4692bdb37a92"
      },
      "source": [
        "tup = 'alfa', 1, 2, 3\n",
        "print(tup)\n",
        "print(tup[0]) #o primeiro elemento\n",
        "print(tup[3])\n",
        "#tuplas são imutáveis"
      ],
      "execution_count": null,
      "outputs": [
        {
          "output_type": "stream",
          "name": "stdout",
          "text": [
            "('alfa', 1, 2, 3)\n",
            "alfa\n",
            "3\n"
          ]
        }
      ]
    },
    {
      "cell_type": "code",
      "metadata": {
        "colab": {
          "base_uri": "https://localhost:8080/"
        },
        "id": "lvpyfEiAllmq",
        "outputId": "8a43292d-ab91-43cf-ae63-967c86d97700"
      },
      "source": [
        "tup1='evandro', 3773\n",
        "print(type(tup1))\n",
        "print(tup1)"
      ],
      "execution_count": null,
      "outputs": [
        {
          "output_type": "stream",
          "name": "stdout",
          "text": [
            "<class 'tuple'>\n",
            "('evandro', 3773)\n"
          ]
        }
      ]
    },
    {
      "cell_type": "markdown",
      "metadata": {
        "id": "B47f9tNBl4un"
      },
      "source": [
        "Apesar de conseguirmos acessar os elementos de tuplas pelos índices, não conseguimos modificá-los usando indexação.<br>\n",
        "Remova o símbolo de comentário abaixo e execute o código"
      ]
    },
    {
      "cell_type": "code",
      "metadata": {
        "id": "vhcYt52OmR_J"
      },
      "source": [
        "tup1='evandro', 3773\n",
        "#tup1[1]=3774"
      ],
      "execution_count": null,
      "outputs": []
    },
    {
      "cell_type": "markdown",
      "metadata": {
        "id": "sy1Jtb_dxwZM"
      },
      "source": [
        "### Conjuntos (sets)\n",
        "* Coleção **não-ordenada** de objetos **únicos**\n",
        "* Não tem duplicatas\n",
        "* União, intersecção e diferença são operaçõees suportadas em sets"
      ]
    },
    {
      "cell_type": "code",
      "metadata": {
        "id": "UxFPCHF1xwZM",
        "colab": {
          "base_uri": "https://localhost:8080/"
        },
        "outputId": "7cabe3b8-7786-4946-b6cf-e81a4d198584"
      },
      "source": [
        "lista = ['comp', 'mouse', 'teclado', 'comp']\n",
        "st = set(lista) #converte lista em conjunto\n",
        "print(st)\n",
        "print('comp' in st)\n",
        "print('cabos' in st)\n",
        "lista=[1,1,2,2,3,3]\n",
        "print(set(lista))"
      ],
      "execution_count": null,
      "outputs": [
        {
          "output_type": "stream",
          "name": "stdout",
          "text": [
            "{'mouse', 'comp', 'teclado'}\n",
            "True\n",
            "False\n",
            "{1, 2, 3}\n"
          ]
        }
      ]
    },
    {
      "cell_type": "markdown",
      "metadata": {
        "id": "n7V3PMF2GLBX"
      },
      "source": [
        "Criação e inserção em conjuntos"
      ]
    },
    {
      "cell_type": "code",
      "metadata": {
        "colab": {
          "base_uri": "https://localhost:8080/"
        },
        "id": "Dg60VXGFFxvc",
        "outputId": "4d909179-d5f1-4682-9cd9-356ef340caeb"
      },
      "source": [
        "vazio=set() #declara conjunto vazio\n",
        "vazio.add(1)\n",
        "print(vazio)"
      ],
      "execution_count": null,
      "outputs": [
        {
          "output_type": "stream",
          "name": "stdout",
          "text": [
            "{1}\n"
          ]
        }
      ]
    },
    {
      "cell_type": "code",
      "metadata": {
        "colab": {
          "base_uri": "https://localhost:8080/"
        },
        "id": "tf9dkV8jGRvi",
        "outputId": "921e6714-29d1-4f56-c5f8-60fd95bcb8e0"
      },
      "source": [
        "set1={1,2,3,4,5}\n",
        "set2={1,2,8}\n",
        "for i in set1:\n",
        "    print(i)\n",
        "res=set1.intersection(set2)\n",
        "print(\"intersecção: \",res)\n",
        "res=set1.union(set2)\n",
        "print(\"união: \",res)\n",
        "print(set1.difference(set2))"
      ],
      "execution_count": null,
      "outputs": [
        {
          "output_type": "stream",
          "name": "stdout",
          "text": [
            "1\n",
            "2\n",
            "3\n",
            "4\n",
            "5\n",
            "intersecção:  {1, 2}\n",
            "união:  {1, 2, 3, 4, 5, 8}\n",
            "{3, 4, 5}\n"
          ]
        }
      ]
    },
    {
      "cell_type": "markdown",
      "metadata": {
        "id": "0LHc8iGRHQ1R"
      },
      "source": [
        "A diferença entre dois conjuntos, *A* e *B*, pode ser *A-B* ou *B-A*. <br>\n",
        "Confira, usando Python, os resultados distintos destas duas operações."
      ]
    },
    {
      "cell_type": "markdown",
      "metadata": {
        "id": "ffSAzxZmxwZN"
      },
      "source": [
        "### Dicionários (*hash tables*)\n",
        "* Também conhecido como: Tabelas de associação ou Array associativo\n",
        "* Tipo abstrato de dado que relacionam **chave** X **valor**\n",
        "* Indexação por **chaves**, não por índices ou números\n",
        "* Forma um conjunto não-ordenado\n",
        "* Operações: inserir e retirar valor dada uma chave"
      ]
    },
    {
      "cell_type": "code",
      "metadata": {
        "scrolled": true,
        "id": "QlW8gaeLxwZN",
        "colab": {
          "base_uri": "https://localhost:8080/"
        },
        "outputId": "5a3eee40-fd3e-4f28-9c57-17343bfb64f1"
      },
      "source": [
        "ramais = {'evandro': 153773, 'secretaria': 150429, 'diretoria': 153670}\n",
        "print(\"ramal do Evandro:\", ramais['evandro'])\n",
        "#insere uma chave e um valor, ambos novos\n",
        "ramais['alessandra']=154863\n",
        "print(ramais)\n",
        "print(ramais.keys()) #mostra as chaves\n",
        "print(ramais.values()) #mostra os valores"
      ],
      "execution_count": null,
      "outputs": [
        {
          "output_type": "stream",
          "name": "stdout",
          "text": [
            "ramal do Evandro: 153773\n",
            "{'evandro': 153773, 'secretaria': 150429, 'diretoria': 153670, 'alessandra': 154863}\n",
            "dict_keys(['evandro', 'secretaria', 'diretoria', 'alessandra'])\n",
            "dict_values([153773, 150429, 153670, 154863])\n"
          ]
        }
      ]
    },
    {
      "cell_type": "markdown",
      "metadata": {
        "id": "cY50108SONou"
      },
      "source": [
        "Remoção de elemento de um dicionário"
      ]
    },
    {
      "cell_type": "code",
      "metadata": {
        "colab": {
          "base_uri": "https://localhost:8080/"
        },
        "id": "WRMB9HKDOTAx",
        "outputId": "748debb9-9188-4ae7-8e20-7687d7bcef61"
      },
      "source": [
        "ramais.pop('evandro')"
      ],
      "execution_count": null,
      "outputs": [
        {
          "output_type": "execute_result",
          "data": {
            "text/plain": [
              "153773"
            ]
          },
          "metadata": {},
          "execution_count": 178
        }
      ]
    },
    {
      "cell_type": "markdown",
      "metadata": {
        "id": "OPMb_ksyOfZS"
      },
      "source": [
        "O comando `pop()` é mais **pythonico** que o `del`"
      ]
    },
    {
      "cell_type": "code",
      "metadata": {
        "colab": {
          "base_uri": "https://localhost:8080/"
        },
        "id": "YWaieP2CSppm",
        "outputId": "d869d999-6afb-4ccf-d1a4-fd4fe6580601"
      },
      "source": [
        "del ramais['diretoria']\n",
        "print(ramais)"
      ],
      "execution_count": null,
      "outputs": [
        {
          "output_type": "stream",
          "name": "stdout",
          "text": [
            "{'secretaria': 150429, 'alessandra': 154863}\n"
          ]
        }
      ]
    },
    {
      "cell_type": "markdown",
      "metadata": {
        "id": "iwSEjU4QxwZN"
      },
      "source": [
        "#### Interação do dicionário"
      ]
    },
    {
      "cell_type": "code",
      "metadata": {
        "id": "ghm4ZrixxwZO",
        "colab": {
          "base_uri": "https://localhost:8080/"
        },
        "outputId": "e818d557-2563-41b0-bb59-d7e171d64493"
      },
      "source": [
        "ramais = {'evandro': 153773, 'secretaria': 150429, 'diretoria': 153670}\n",
        "for nome, y in ramais.items():\n",
        "    print(nome,y)"
      ],
      "execution_count": null,
      "outputs": [
        {
          "output_type": "stream",
          "name": "stdout",
          "text": [
            "evandro 153773\n",
            "secretaria 150429\n",
            "diretoria 153670\n"
          ]
        }
      ]
    },
    {
      "cell_type": "code",
      "metadata": {
        "id": "dglhTC5GxwZO",
        "colab": {
          "base_uri": "https://localhost:8080/"
        },
        "outputId": "7cbfa0e4-6f88-44ab-8500-457d4bae7dd0"
      },
      "source": [
        "# agora em ordem alfabética crescente\n",
        "for nome, tel in sorted(ramais.items()):\n",
        "    print(nome,tel)"
      ],
      "execution_count": null,
      "outputs": [
        {
          "output_type": "stream",
          "name": "stdout",
          "text": [
            "diretoria 153670\n",
            "evandro 153773\n",
            "secretaria 150429\n"
          ]
        }
      ]
    },
    {
      "cell_type": "markdown",
      "metadata": {
        "id": "30wznHXgjqmm"
      },
      "source": [
        "# Strings, cadeias de caracteres\n",
        "\n",
        "São essenciais em PLN pois é sua materia prima."
      ]
    },
    {
      "cell_type": "code",
      "metadata": {
        "colab": {
          "base_uri": "https://localhost:8080/"
        },
        "id": "SaBwpHvYj37V",
        "outputId": "4f0806f1-191c-463d-cc6a-1051b66140a4"
      },
      "source": [
        "cad1='com aspas simples, '\n",
        "cad2=\"com aspas duplas. \"\n",
        "cad3=\"\"\"As triplas obede\n",
        "cem a formata ção e s c olhida!\"\"\"\n",
        "print(cad1+cad2+cad3)"
      ],
      "execution_count": null,
      "outputs": [
        {
          "output_type": "stream",
          "name": "stdout",
          "text": [
            "com aspas simples, com aspas duplas. As triplas obede\n",
            "cem a formata ção e s c olhida!\n"
          ]
        }
      ]
    },
    {
      "cell_type": "markdown",
      "metadata": {
        "id": "MyeEVvLxkf1U"
      },
      "source": [
        "As cadeias de caracteres não admitem alteração direta.<br>\n",
        "Tire os comentários do código abaixo e execute-o"
      ]
    },
    {
      "cell_type": "code",
      "metadata": {
        "colab": {
          "base_uri": "https://localhost:8080/"
        },
        "id": "fOIH0uGmkeLs",
        "outputId": "045e41ef-5f4f-459c-8049-d902c34e7083"
      },
      "source": [
        "cad=\"testa\"\n",
        "outra='f' + cad[1:]\n",
        "print(outra)\n",
        "#erro na linha a seguir\n",
        "#cad[0]='f'"
      ],
      "execution_count": null,
      "outputs": [
        {
          "output_type": "stream",
          "name": "stdout",
          "text": [
            "festa\n"
          ]
        }
      ]
    },
    {
      "cell_type": "markdown",
      "metadata": {
        "id": "GLPZKKm6lc0S"
      },
      "source": [
        "Vamos manipular as cadeias de caracteres.<br>\n",
        "Existe aqui um conceito de sobrescrição do operador ``+`` que age para concatenar cadeias de caracteres e não somá-las"
      ]
    },
    {
      "cell_type": "code",
      "metadata": {
        "colab": {
          "base_uri": "https://localhost:8080/"
        },
        "id": "zRCHSDNPlgt_",
        "outputId": "fa700fd4-726f-4050-ada4-9b68398e74c2"
      },
      "source": [
        "cad=\"festa\"\n",
        "cont=\" no apto\"\n",
        "tudo=cad+cont\n",
        "print(tudo)"
      ],
      "execution_count": null,
      "outputs": [
        {
          "output_type": "stream",
          "name": "stdout",
          "text": [
            "festa no apto\n"
          ]
        }
      ]
    },
    {
      "cell_type": "code",
      "metadata": {
        "colab": {
          "base_uri": "https://localhost:8080/"
        },
        "id": "2HL0BEIBl8N7",
        "outputId": "9c208d10-0c25-4175-c18f-6a8daad2a564"
      },
      "source": [
        "pi=3.41\n",
        "texto=\"O numero pi vale: \"\n",
        "print(texto+ str(pi))"
      ],
      "execution_count": null,
      "outputs": [
        {
          "output_type": "stream",
          "name": "stdout",
          "text": [
            "O numero pi vale: 3.41\n"
          ]
        }
      ]
    },
    {
      "cell_type": "code",
      "metadata": {
        "colab": {
          "base_uri": "https://localhost:8080/"
        },
        "id": "4mjo9G7imQYW",
        "outputId": "d486e530-c3a1-49a6-ad5e-7028c72db19d"
      },
      "source": [
        "dcm='departamento de computação e matemática'\n",
        "print(len(dcm))\n",
        "maiusc=dcm.upper()\n",
        "print(maiusc)\n",
        "l=maiusc.lower()\n",
        "print(l)"
      ],
      "execution_count": null,
      "outputs": [
        {
          "output_type": "stream",
          "name": "stdout",
          "text": [
            "39\n",
            "DEPARTAMENTO DE COMPUTAÇÃO E MATEMÁTICA\n",
            "departamento de computação e matemática\n"
          ]
        }
      ]
    },
    {
      "cell_type": "markdown",
      "metadata": {
        "id": "AMvlgdC3xwZO"
      },
      "source": [
        "# Funções\n",
        "\n",
        "Existem dois tipos de funções em Python:\n",
        "- as funções pre-definidas dos tipos de dados inerentes da linguagem; e\n",
        "- as funções definidas pelos usuários\n",
        "\n",
        "Nosso foco aqui será neste último tipo."
      ]
    },
    {
      "cell_type": "code",
      "metadata": {
        "id": "vJ7Sfy2yxwZP",
        "colab": {
          "base_uri": "https://localhost:8080/"
        },
        "outputId": "faea130b-3ddf-4841-9bdc-efec3295b12d"
      },
      "source": [
        "def quadrado(x):\n",
        "...     return (x*x)\n",
        "print(quadrado(4))"
      ],
      "execution_count": null,
      "outputs": [
        {
          "output_type": "stream",
          "name": "stdout",
          "text": [
            "16\n"
          ]
        }
      ]
    },
    {
      "cell_type": "code",
      "metadata": {
        "collapsed": true,
        "id": "PJY_wWZwxwZP"
      },
      "source": [
        "def fat(n):\n",
        "    if n>1:\n",
        "        return n*fat(n-1)\n",
        "    else:\n",
        "        return 1"
      ],
      "execution_count": null,
      "outputs": []
    },
    {
      "cell_type": "code",
      "metadata": {
        "id": "cMswgmCyxwZP",
        "colab": {
          "base_uri": "https://localhost:8080/"
        },
        "outputId": "d2d15c9a-334b-40ff-f730-64bfc401241b"
      },
      "source": [
        "print(fat(4))"
      ],
      "execution_count": null,
      "outputs": [
        {
          "output_type": "stream",
          "name": "stdout",
          "text": [
            "24\n"
          ]
        }
      ]
    },
    {
      "cell_type": "markdown",
      "metadata": {
        "id": "d7SDqXcrkxWb"
      },
      "source": [
        "# Lendo arquivos no Google Drive"
      ]
    },
    {
      "cell_type": "code",
      "metadata": {
        "colab": {
          "base_uri": "https://localhost:8080/"
        },
        "id": "_SWB9vC2k3Q7",
        "outputId": "670741bf-4156-4430-8995-4c2e11c31243"
      },
      "source": [
        "from google.colab import drive\n",
        "drive.mount('/content/drive/', force_remount=True)"
      ],
      "execution_count": null,
      "outputs": [
        {
          "output_type": "stream",
          "name": "stdout",
          "text": [
            "Mounted at /content/drive/\n"
          ]
        }
      ]
    },
    {
      "cell_type": "code",
      "metadata": {
        "colab": {
          "base_uri": "https://localhost:8080/"
        },
        "id": "llHGgqsOHbkW",
        "outputId": "5ac9e3c2-9803-45a4-bd5c-a6dd11a90c66"
      },
      "source": [
        "!ls"
      ],
      "execution_count": null,
      "outputs": [
        {
          "output_type": "stream",
          "name": "stdout",
          "text": [
            "drive  gdrive  sample_data\n"
          ]
        }
      ]
    },
    {
      "cell_type": "markdown",
      "metadata": {
        "id": "4ct455toicS-"
      },
      "source": [
        "Para encontrar o caminho do seu arquivo, procure no lado esquerdo da janela do Colab por um ícone retangular que indica o sistema de arquivos do Google Drive.<br>\n",
        "Navegue pelos arquivos e diretórios até encontrar o arquivo que deseja. Clique com o botão direito do mouse sobre o nome do arquivo e copie o seu caminho, ``path``. Esse caminho será usado como uma cadeia de caracteres para ler o arquivo.<br>\n",
        "Veja a seguir:"
      ]
    },
    {
      "cell_type": "code",
      "metadata": {
        "colab": {
          "base_uri": "https://localhost:8080/"
        },
        "id": "2D2B3e7BgdJ1",
        "outputId": "bdf94fce-8a1f-48ee-a776-d4e950224593"
      },
      "source": [
        "caminho='/content/drive/MyDrive/Colab Notebooks/PG PRIT/qbdata.txt'\n",
        "arq1=open(caminho, 'r')\n",
        "\n",
        "#le o arquivo e armazena cada linha como um item de uma lista\n",
        "conteudo=arq1.readlines()\n",
        "print(type(conteudo))\n",
        "print(conteudo[:2])\n",
        "print(\"Arquivo com: \", str(len(conteudo)) + \" linhas\")"
      ],
      "execution_count": null,
      "outputs": [
        {
          "output_type": "stream",
          "name": "stdout",
          "text": [
            "<class 'list'>\n",
            "['Colt McCoy QB, CLE  135 222 1576    6   9   60.8%   74.5\\n', 'Josh Freeman QB, TB 291 474 3451    25  6   61.4%   95.9\\n']\n",
            "Arquivo com:  34 linhas\n"
          ]
        }
      ]
    },
    {
      "cell_type": "markdown",
      "metadata": {
        "id": "odv9ylu1xwZP"
      },
      "source": [
        "### Por hora, é só!"
      ]
    }
  ]
}